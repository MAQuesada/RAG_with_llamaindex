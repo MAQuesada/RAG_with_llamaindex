{
 "cells": [
  {
   "cell_type": "markdown",
   "metadata": {},
   "source": [
    "# Text Completion\n",
    "\n",
    "This example intends to provide a useful code with Llama_index library using a Hugginface pre-trained model to complete the prompt established as introduction for starting the conversation with the model.\n",
    "\n",
    "The objective of this example was to run a complete functional example in an on-premise GPU of only 12Gb."
   ]
  },
  {
   "cell_type": "markdown",
   "metadata": {},
   "source": [
    "## 1. Code using pytorch and trasformers"
   ]
  },
  {
   "cell_type": "code",
   "execution_count": 1,
   "metadata": {},
   "outputs": [
    {
     "name": "stderr",
     "output_type": "stream",
     "text": [
      "2024-01-19 12:16:55.774974: I tensorflow/tsl/cuda/cudart_stub.cc:28] Could not find cuda drivers on your machine, GPU will not be used.\n",
      "2024-01-19 12:16:55.803408: I tensorflow/core/platform/cpu_feature_guard.cc:182] This TensorFlow binary is optimized to use available CPU instructions in performance-critical operations.\n",
      "To enable the following instructions: AVX2 FMA, in other operations, rebuild TensorFlow with the appropriate compiler flags.\n",
      "2024-01-19 12:16:56.349374: W tensorflow/compiler/tf2tensorrt/utils/py_utils.cc:38] TF-TRT Warning: Could not find TensorRT\n"
     ]
    }
   ],
   "source": [
    "import torch\n",
    "from transformers import pipeline\n",
    "pipe = pipeline(\"text-generation\", model=\"TinyLlama/TinyLlama-1.1B-Chat-v1.0\", torch_dtype=torch.bfloat16, device_map=\"auto\")\n",
    "# We use the tokenizer's chat template to format each message - see https://huggingface.co/docs/transformers/main/en/chat_templating\n",
    "messages = [\n",
    "    {\n",
    "        \"role\": \"system\",\n",
    "        \"content\": \"You are a friendly chatbot who always responds in the style of a pirate\",\n",
    "    },\n",
    "    {\"role\": \"user\", \"content\": \"How many helicopters can a human eat in one sitting?\"},\n",
    "]\n",
    "prompt = pipe.tokenizer.apply_chat_template(messages, tokenize=False, add_generation_prompt=True)\n",
    "outputs = pipe(prompt, max_new_tokens=256, do_sample=True, temperature=0.7, top_k=50, top_p=0.95)"
   ]
  },
  {
   "cell_type": "code",
   "execution_count": 5,
   "metadata": {},
   "outputs": [
    {
     "name": "stdout",
     "output_type": "stream",
     "text": [
      "<|system|>\n",
      "You are a friendly chatbot who always responds in the style of a pirate</s>\n",
      "<|user|>\n",
      "How many helicopters can a human eat in one sitting?</s>\n",
      "<|assistant|>\n",
      "I do not have access to specific data on the number of helicopters a human can eat in one sitting. However, helicopters are usually equipped with a small serving capacity, and a typical meal for one person might consist of around 3-4 servings. So, a human can eat around 6-8 servings of helicopter food, which is not a lot. However, the number of servings depends on the size of the helicopter, the quality of the food, and the individual's appetite.\n"
     ]
    }
   ],
   "source": [
    "print(outputs[0][\"generated_text\"])"
   ]
  },
  {
   "cell_type": "code",
   "execution_count": null,
   "metadata": {},
   "outputs": [],
   "source": [
    "from llama_index.llms import HuggingFaceLLM\n",
    "from llama_index.prompts import PromptTemplate\n",
    "\n",
    "llm = HuggingFaceLLM(\n",
    "    model_name=\"TinyLlama/TinyLlama-1.1B-Chat-v1.0\",\n",
    "    tokenizer_name=\"TinyLlama/TinyLlama-1.1B-Chat-v1.0\",\n",
    "    query_wrapper_prompt=PromptTemplate(\n",
    "        \"<|system|>\\n</s>\\n<|user|>\\n{query_str}</s>\\n<|assistant|>\\n\"),\n",
    "    # query_wrapper_prompt=PromptTemplate(template),\n",
    "    context_window=2048,\n",
    "    max_new_tokens=256,\n",
    "    model_kwargs={'trust_remote_code': True},\n",
    "    generate_kwargs={\"temperature\": 0.7},\n",
    "    device_map=\"auto\",\n",
    ")"
   ]
  },
  {
   "cell_type": "markdown",
   "metadata": {},
   "source": [
    "## 1. To Llamaindex"
   ]
  },
  {
   "cell_type": "code",
   "execution_count": 3,
   "metadata": {},
   "outputs": [],
   "source": [
    "from llama_index import set_global_tokenizer\n",
    "# tokenizer for huggingface\n",
    "from transformers import AutoTokenizer\n",
    "\n",
    "set_global_tokenizer(\n",
    "    AutoTokenizer.from_pretrained(\"TinyLlama/TinyLlama-1.1B-Chat-v1.0\").encode\n",
    ")"
   ]
  },
  {
   "cell_type": "code",
   "execution_count": 1,
   "metadata": {},
   "outputs": [],
   "source": [
    "from llama_index.llms import HuggingFaceLLM\n",
    "from llama_index.prompts import PromptTemplate\n",
    "\n",
    "\n",
    "llm = HuggingFaceLLM(\n",
    "    model_name=\"TinyLlama/TinyLlama-1.1B-Chat-v1.0\",\n",
    "    tokenizer_name=\"TinyLlama/TinyLlama-1.1B-Chat-v1.0\",\n",
    "    query_wrapper_prompt=PromptTemplate(\n",
    "        \"<|system|>\\n</s>\\n<|user|>\\n</s>\\n<|assistant|>\\n\"),\n",
    "    context_window=2048,\n",
    "    max_new_tokens=256,\n",
    "    model_kwargs={'trust_remote_code': True},\n",
    "    generate_kwargs={\"temperature\": 0.7,\"do_sample\":True},\n",
    "    device_map=\"auto\",\n",
    ")"
   ]
  },
  {
   "cell_type": "code",
   "execution_count": 7,
   "metadata": {},
   "outputs": [
    {
     "name": "stdout",
     "output_type": "stream",
     "text": [
      "1. Bake the chicken in a preheated 375°F (190°C) oven for 30-35 minutes or until the internal temperature reaches 165°F (74°C).\n",
      "\n",
      "2. Remove the chicken from the oven and let it rest for 10 minutes before slicing into thin strips.\n",
      "\n",
      "3. In a small bowl, mix together the lime juice, honey, garlic, salt, and pepper.\n",
      "\n",
      "4. Brush the marinade over the chicken strips while they are still warm.\n",
      "\n",
      "5. Serve the grilled chicken with the lime slices and a side of cilantro rice. Enjoy!\n"
     ]
    }
   ],
   "source": [
    "query_str = \"How many helicopters can a human eat in one sitting?\"\n",
    "\n",
    "response = llm.complete(query_str)\n",
    "print(response.text)"
   ]
  },
  {
   "cell_type": "code",
   "execution_count": 6,
   "metadata": {},
   "outputs": [
    {
     "name": "stdout",
     "output_type": "stream",
     "text": [
      "assistant: <|assistant|>\n",
      "There is no scientific evidence that supports the number of helicopters that a human can eat in one sitting. The amount of food a person can consume depends on their weight, appetite, and physical activity levels. Most people are able to consume enough calories to sustain their energy levels and maintain a healthy weight, even with a small amount of food. However, eating a large amount of food in one sitting can lead to nutrient deficiencies, especially in people with unique dietary needs or conditions.\n"
     ]
    }
   ],
   "source": [
    "from llama_index.llms import ChatMessage\n",
    "\n",
    "messages = [\n",
    "    ChatMessage(\n",
    "        role=\"system\", content=\"You are a friendly chatbot who always responds\"\n",
    "    ),\n",
    "    ChatMessage(role=\"user\", content=query_str),\n",
    "]\n",
    "resp = llm.chat(messages)\n",
    "print(resp)"
   ]
  },
  {
   "cell_type": "markdown",
   "metadata": {},
   "source": [
    "## GPT Response\n",
    "\n",
    "On January 23\n",
    "\n",
    "Humans cannot eat helicopters. Helicopters are large, mechanical vehicles made of metal and other materials that are not edible. Attempting to eat a helicopter would be extremely dangerous and impossible. If you have any concerns or thoughts related to the consumption of non-food items, it's important to seek help from a medical professional or mental health expert."
   ]
  },
  {
   "cell_type": "markdown",
   "metadata": {},
   "source": [
    "## Bard Response\n",
    "\n",
    "On January 23\n",
    "\n",
    "\n",
    "A human cannot eat a helicopter in one sitting. Helicopters are not edible, as they are made of metal, plastic, and other materials that are not digestible by humans. Additionally, helicopters are very large and heavy, and it would be physically impossible for a human to consume one in a single sitting.\n",
    "\n",
    "It is important to note that the question of how many helicopters a human can eat in one sitting is a hypothetical one, and it is not something that should be attempted in real life. Ingesting non-edible objects can be harmful to your health, and it could even be fatal."
   ]
  },
  {
   "cell_type": "markdown",
   "metadata": {},
   "source": [
    "## Manuel Add a Screen of GPU RAM uses after complete the task"
   ]
  }
 ],
 "metadata": {
  "kernelspec": {
   "display_name": "Python 3 (ipykernel)",
   "language": "python",
   "name": "python3"
  },
  "language_info": {
   "codemirror_mode": {
    "name": "ipython",
    "version": 3
   },
   "file_extension": ".py",
   "mimetype": "text/x-python",
   "name": "python",
   "nbconvert_exporter": "python",
   "pygments_lexer": "ipython3",
   "version": "3.9.7"
  }
 },
 "nbformat": 4,
 "nbformat_minor": 2
}
