{
 "cells": [
  {
   "cell_type": "markdown",
   "metadata": {},
   "source": [
    "# **Advanced RAG**\n",
    "This example constitutes a proof of concept in the llamaindex library to build a RAG pipeline that provides context to the language model and also identifies the documents used in the response."
   ]
  },
  {
   "cell_type": "markdown",
   "metadata": {},
   "source": [
    "## Load data"
   ]
  },
  {
   "cell_type": "code",
   "execution_count": 1,
   "metadata": {},
   "outputs": [
    {
     "data": {
      "text/plain": [
       "41"
      ]
     },
     "execution_count": 1,
     "metadata": {},
     "output_type": "execute_result"
    }
   ],
   "source": [
    "from llama_hub.file.pdf.base import PDFReader\n",
    "from llama_index import SimpleDirectoryReader\n",
    "\n",
    "\n",
    "documents = PDFReader().load_data(\n",
    "    file=\"LLM_TRAIN/eBook-How-to-Build-a-Career-in-AI.pdf\"\n",
    ")\n",
    "\n",
    "# alternative\n",
    "\n",
    "# documents = SimpleDirectoryReader(\n",
    "#     input_files=['LLM_TRAIN/eBook-How-to-Build-a-Career-in-AI.pdf']\n",
    "# ).load_data()\n",
    "\n",
    "\n",
    "len(documents)"
   ]
  },
  {
   "cell_type": "markdown",
   "metadata": {},
   "source": [
    "## Parse Documents into Nodes using SentenceWindowRetrieval"
   ]
  },
  {
   "cell_type": "code",
   "execution_count": 2,
   "metadata": {},
   "outputs": [],
   "source": [
    "from llama_index.node_parser import SentenceWindowNodeParser\n",
    "\n",
    "# create the sentence window node parser w/ default settings\n",
    "# we can use sentence_splitter args to say how splits text into sentences\n",
    "\n",
    "node_parser = SentenceWindowNodeParser.from_defaults(\n",
    "    window_size=3,\n",
    "    window_metadata_key=\"window\",\n",
    "    include_prev_next_rel=True,\n",
    "    original_text_metadata_key=\"original_text\",\n",
    ")"
   ]
  },
  {
   "cell_type": "markdown",
   "metadata": {},
   "source": [
    "## LLM and embeddings"
   ]
  },
  {
   "cell_type": "code",
   "execution_count": 1,
   "metadata": {},
   "outputs": [],
   "source": [
    "from llama_index.embeddings import resolve_embed_model\n",
    "#  BGE embedder from HuggingFace\n",
    "# \"local:BAAI/bge-small-en-v1.5\"\n",
    "embed_model = resolve_embed_model(\"local:BAAI/bge-large-en-v1.5\")\n",
    "\n",
    "# from llama_index import set_global_tokenizer\n",
    "# # tokenizer for huggingface\n",
    "# from transformers import AutoTokenizer\n",
    "\n",
    "# set_global_tokenizer(\n",
    "#     AutoTokenizer.from_pretrained(\"TinyLlama/TinyLlama-1.1B-Chat-v1.0\").encode\n",
    "# )"
   ]
  },
  {
   "cell_type": "code",
   "execution_count": 2,
   "metadata": {},
   "outputs": [],
   "source": [
    "from llama_index.llms import HuggingFaceLLM\n",
    "from llama_index.prompts import PromptTemplate\n",
    "\n",
    "\n",
    "llm = HuggingFaceLLM(\n",
    "    # model_name=\"Deci/DeciLM-6b-instruct\",\n",
    "    # tokenizer_name=\"Deci/DeciLM-6b-instruct\",\n",
    "\n",
    "    # model_name=\"WeOpenML/Alpaca-7B-v1\",  # alapca of stanford\n",
    "    # tokenizer_name=\"WeOpenML/Alpaca-7B-v1\",\n",
    "\n",
    "    model_name=\"TinyLlama/TinyLlama-1.1B-Chat-v1.0\",\n",
    "    tokenizer_name=\"TinyLlama/TinyLlama-1.1B-Chat-v1.0\",\n",
    "    query_wrapper_prompt=PromptTemplate(\n",
    "        \"<|system|>\\n</s>\\n<|user|>\\n{query_str}</s>\\n<|assistant|>\\n\"),\n",
    "    # query_wrapper_prompt=PromptTemplate(template),\n",
    "\n",
    "    context_window=2048,  # 4096\n",
    "    max_new_tokens=256,  # 512\n",
    "    model_kwargs={'trust_remote_code': True},\n",
    "    generate_kwargs={\"temperature\": 0.7, \"do_sample\": True},\n",
    "    device_map=\"auto\",\n",
    ")"
   ]
  },
  {
   "cell_type": "code",
   "execution_count": 5,
   "metadata": {},
   "outputs": [],
   "source": [
    "from llama_index import ServiceContext\n",
    "\n",
    "# service context is a wrapper object that contains all the context needed for indexing\n",
    "sentence_context = ServiceContext.from_defaults(\n",
    "    llm=llm,\n",
    "    embed_model=embed_model,\n",
    "    node_parser=node_parser,\n",
    ")"
   ]
  },
  {
   "cell_type": "markdown",
   "metadata": {},
   "source": [
    "## Building the index"
   ]
  },
  {
   "cell_type": "code",
   "execution_count": 6,
   "metadata": {},
   "outputs": [],
   "source": [
    "from llama_index import VectorStoreIndex\n",
    "\n",
    "sentence_index = VectorStoreIndex.from_documents(\n",
    "    documents, service_context=sentence_context\n",
    ")\n",
    "# Save index to disk for later loading\n",
    "sentence_index.storage_context.persist(persist_dir=\"LLM_TRAIN/sentence_index\")"
   ]
  },
  {
   "cell_type": "markdown",
   "metadata": {},
   "source": [
    "### Building the postprocessor\n",
    "Optionality you can add a reranker"
   ]
  },
  {
   "cell_type": "code",
   "execution_count": 7,
   "metadata": {},
   "outputs": [],
   "source": [
    "from llama_index.indices.postprocessor import MetadataReplacementPostProcessor\n",
    "\n",
    "# This takes a value stored in the metadata and replaces a node text\n",
    "postproc = MetadataReplacementPostProcessor(target_metadata_key=\"window\")"
   ]
  },
  {
   "cell_type": "markdown",
   "metadata": {},
   "source": [
    "## Query the index"
   ]
  },
  {
   "cell_type": "code",
   "execution_count": 8,
   "metadata": {},
   "outputs": [],
   "source": [
    "sentence_window_engine = sentence_index.as_query_engine(\n",
    "    similarity_top_k=3, node_postprocessors=[postproc]  # fetch the six most similarity\n",
    ")"
   ]
  },
  {
   "cell_type": "code",
   "execution_count": 9,
   "metadata": {},
   "outputs": [
    {
     "name": "stdout",
     "output_type": "stream",
     "text": [
      "The keys to building a career in AI are:\n",
      "\n",
      "1. Learning foundational technical skills - this includes topics such as programming, machine learning, and data analysis.\n",
      "2. Finding a job - this involves pursuing projects, building a portfolio, and creating impact.\n",
      "3. Finding a job in a specific field, such as AI engineering or data science.\n",
      "4. Focusing on learning foundational skills over time to build a solid technical foundation.\n",
      "5. Tackling large projects and working in teams to improve collaboration and communication skills.\n",
      "6. Building a solid portfolio that demonstrates your skills and experience.\n",
      "7. Building a network of industry professionals and potential employers.\n",
      "8. Seeking out mentorship and certifications to improve your skills further.\n"
     ]
    }
   ],
   "source": [
    "print(sentence_window_engine.query(\n",
    "    \"What are the keys to building a career in AI?\"))"
   ]
  },
  {
   "cell_type": "markdown",
   "metadata": {},
   "source": [
    "## Obtain the documents from which the context is extracted"
   ]
  },
  {
   "cell_type": "code",
   "execution_count": 10,
   "metadata": {},
   "outputs": [
    {
     "data": {
      "text/plain": [
       "\"The best way to start learning on the AI way is to start small and succeed. Instead of trying to exercise for 30 minutes a day, aim for doing just one push-up. This approach may be helpful for those who want to spend more time studying. Even if you learn nothing in that 10 seconds, you're building the habit of studying daily. On some days, you may end up studying for an hour or longer. To maintain a steady pace of learning for years, cultivate the habit of learning a little bit every week. Learning technical skills for a promising AI career involves learning foundational technical skills, working on projects, and finding a job supported by being part of a community.\""
      ]
     },
     "execution_count": 10,
     "metadata": {},
     "output_type": "execute_result"
    }
   ],
   "source": [
    "question = 'how can I start learning on the AI way?'\n",
    "result = sentence_window_engine.query(question)\n",
    "result.response  # get the response text"
   ]
  },
  {
   "cell_type": "code",
   "execution_count": 11,
   "metadata": {},
   "outputs": [
    {
     "data": {
      "text/plain": [
       "[NodeWithScore(node=TextNode(id_='f16683cc-d3c5-4dd1-9897-a3166a2402ef', embedding=None, metadata={'window': 'Fogg explains that the best way to build a new habit is to start small \\nand succeed, rather than start  too big and fail.  For example, rather than trying to \\nexercise for 30 minutes a day, he recommends aspiring to do just one push-up, and \\ndoing it consistently.\\n This approach may be helpful to those of you who want to spend more time studying. \\n If you start by holding yourself accountable for watching, say, 10 seconds of an \\neducational video every day — and you do so consistently — the habit of studying daily \\nwill grow naturally.  Even if you learn nothing in that 10 seconds, you’re establishing the \\nhabit of studying a little every day.  On some days, maybe you’ll end up studying for an \\nhour or longer.', 'original_text': 'If you start by holding yourself accountable for watching, say, 10 seconds of an \\neducational video every day — and you do so consistently — the habit of studying daily \\nwill grow naturally. ', 'page_label': '11', 'file_name': 'eBook-How-to-Build-a-Career-in-AI.pdf'}, excluded_embed_metadata_keys=['window', 'original_text'], excluded_llm_metadata_keys=['window', 'original_text'], relationships={<NodeRelationship.SOURCE: '1'>: RelatedNodeInfo(node_id='37313376-d54f-456f-a1c2-d72464c66d5e', node_type=<ObjectType.DOCUMENT: '4'>, metadata={'page_label': '11', 'file_name': 'eBook-How-to-Build-a-Career-in-AI.pdf'}, hash='2eb90ea75b9ea26b7cee3a5d85a9a58a83193a4b4afd147ce111012cdf0d0a50'), <NodeRelationship.PREVIOUS: '2'>: RelatedNodeInfo(node_id='eaa6c31a-f008-4f5d-9ca1-4aa87acf87ac', node_type=<ObjectType.TEXT: '1'>, metadata={'window': 'PAGE 11\\nThe Best Way to Build \\na New Habit\\nOne of my favorite books is BJ Fogg’s, Tiny Habits: The Small Changes That Change \\nEverything.  Fogg explains that the best way to build a new habit is to start small \\nand succeed, rather than start  too big and fail.  For example, rather than trying to \\nexercise for 30 minutes a day, he recommends aspiring to do just one push-up, and \\ndoing it consistently.\\n This approach may be helpful to those of you who want to spend more time studying. \\n If you start by holding yourself accountable for watching, say, 10 seconds of an \\neducational video every day — and you do so consistently — the habit of studying daily \\nwill grow naturally.  Even if you learn nothing in that 10 seconds, you’re establishing the \\nhabit of studying a little every day. ', 'original_text': 'This approach may be helpful to those of you who want to spend more time studying. \\n', 'page_label': '11', 'file_name': 'eBook-How-to-Build-a-Career-in-AI.pdf'}, hash='0a3dde05bdf6d17db00f4c3f6fb81d397a35e965921004166ec7d9755f7ac6ef'), <NodeRelationship.NEXT: '3'>: RelatedNodeInfo(node_id='955bd564-4a77-43b0-91ac-ec69bcfbc5db', node_type=<ObjectType.TEXT: '1'>, metadata={'window': 'For example, rather than trying to \\nexercise for 30 minutes a day, he recommends aspiring to do just one push-up, and \\ndoing it consistently.\\n This approach may be helpful to those of you who want to spend more time studying. \\n If you start by holding yourself accountable for watching, say, 10 seconds of an \\neducational video every day — and you do so consistently — the habit of studying daily \\nwill grow naturally.  Even if you learn nothing in that 10 seconds, you’re establishing the \\nhabit of studying a little every day.  On some days, maybe you’ll end up studying for an \\nhour or longer.', 'original_text': 'Even if you learn nothing in that 10 seconds, you’re establishing the \\nhabit of studying a little every day. '}, hash='c3daf20f16cd1a84c241fd9354b1f5a5ce68e0cb8751212824257eed5b3aa427')}, hash='926dc462d1058c5830204b8aefcf3b549832c93d830f928215087e5251d47dd1', text='Fogg explains that the best way to build a new habit is to start small \\nand succeed, rather than start  too big and fail.  For example, rather than trying to \\nexercise for 30 minutes a day, he recommends aspiring to do just one push-up, and \\ndoing it consistently.\\n This approach may be helpful to those of you who want to spend more time studying. \\n If you start by holding yourself accountable for watching, say, 10 seconds of an \\neducational video every day — and you do so consistently — the habit of studying daily \\nwill grow naturally.  Even if you learn nothing in that 10 seconds, you’re establishing the \\nhabit of studying a little every day.  On some days, maybe you’ll end up studying for an \\nhour or longer.', start_char_idx=486, end_char_idx=677, text_template='{metadata_str}\\n\\n{content}', metadata_template='{key}: {value}', metadata_seperator='\\n'), score=0.7076322619109034),\n",
       " NodeWithScore(node=TextNode(id_='c3ac0ac2-c818-44bb-b2d8-616526cb70ff', embedding=None, metadata={'window': 'Everyone I \\nknow who’s great at machine learning is a lifelong learner.  Given how quickly our field is changing, \\nthere’s little choice but to keep learning if you want to keep up.\\n How can you maintain a steady pace of learning for years?  If you can cultivate the habit of \\nlearning a little bit every week, you can make significant progress with what feels like less effort.Learning Technical Skills For a Promising AI Career CHAPTER 2\\n', 'original_text': 'If you can cultivate the habit of \\nlearning a little bit every week, you can make significant progress with what feels like less effort.Learning Technical Skills For a Promising AI Career CHAPTER 2\\n', 'page_label': '10', 'file_name': 'eBook-How-to-Build-a-Career-in-AI.pdf'}, excluded_embed_metadata_keys=['window', 'original_text'], excluded_llm_metadata_keys=['window', 'original_text'], relationships={<NodeRelationship.SOURCE: '1'>: RelatedNodeInfo(node_id='94ae6671-7ac8-4418-871e-90407d22ff76', node_type=<ObjectType.DOCUMENT: '4'>, metadata={'page_label': '10', 'file_name': 'eBook-How-to-Build-a-Career-in-AI.pdf'}, hash='2a2d4338d43653a18c893472b0cd4a49b76ed4ca7f0f64b348fb5cf3ae806556'), <NodeRelationship.PREVIOUS: '2'>: RelatedNodeInfo(node_id='88671f37-be12-492e-a10a-03133bb61117', node_type=<ObjectType.TEXT: '1'>, metadata={'window': 'Finally, no one can cram everything they need to know over a weekend or even a month.  Everyone I \\nknow who’s great at machine learning is a lifelong learner.  Given how quickly our field is changing, \\nthere’s little choice but to keep learning if you want to keep up.\\n How can you maintain a steady pace of learning for years?  If you can cultivate the habit of \\nlearning a little bit every week, you can make significant progress with what feels like less effort.Learning Technical Skills For a Promising AI Career CHAPTER 2\\n', 'original_text': 'How can you maintain a steady pace of learning for years? ', 'page_label': '10', 'file_name': 'eBook-How-to-Build-a-Career-in-AI.pdf'}, hash='86df93b1cf789c93d15bca55b74c914331f82c4416725c37d113f203d70a8979'), <NodeRelationship.NEXT: '3'>: RelatedNodeInfo(node_id='76ba9a08-4759-4402-9a25-477b73d163e5', node_type=<ObjectType.TEXT: '1'>, metadata={'window': 'PAGE 11\\nThe Best Way to Build \\na New Habit\\nOne of my favorite books is BJ Fogg’s, Tiny Habits: The Small Changes That Change \\nEverything.  Fogg explains that the best way to build a new habit is to start small \\nand succeed, rather than start  too big and fail.  For example, rather than trying to \\nexercise for 30 minutes a day, he recommends aspiring to do just one push-up, and \\ndoing it consistently.\\n', 'original_text': 'PAGE 11\\nThe Best Way to Build \\na New Habit\\nOne of my favorite books is BJ Fogg’s, Tiny Habits: The Small Changes That Change \\nEverything. '}, hash='dd06f72cc8f30f47e6fff374bc22c21a890059b71388bee72434eacca2d3b873')}, hash='e389584d738ee6287b7a9ee85035d0bca14a5d453ecda4107297a835d7f94beb', text='Everyone I \\nknow who’s great at machine learning is a lifelong learner.  Given how quickly our field is changing, \\nthere’s little choice but to keep learning if you want to keep up.\\n How can you maintain a steady pace of learning for years?  If you can cultivate the habit of \\nlearning a little bit every week, you can make significant progress with what feels like less effort.Learning Technical Skills For a Promising AI Career CHAPTER 2\\n', start_char_idx=1395, end_char_idx=1593, text_template='{metadata_str}\\n\\n{content}', metadata_template='{key}: {value}', metadata_seperator='\\n'), score=0.6933164608245809),\n",
       " NodeWithScore(node=TextNode(id_='541a0b6b-8461-4150-acd8-03215c46b324', embedding=None, metadata={'window': 'PAGE 9In the previous chapter, I introduced three key steps for building a career in AI: learning \\nfoundational technical skills, working on projects, and finding a job, all of which is supported \\nby being part of a community.  In this chapter, I’d like to dive more deeply into the first step: \\nlearning foundational skills.\\n More research papers have been published on AI than anyone can read in a lifetime.  So, when \\nlearning, it’s critical to prioritize topic selection. ', 'original_text': 'In this chapter, I’d like to dive more deeply into the first step: \\nlearning foundational skills.\\n', 'page_label': '9', 'file_name': 'eBook-How-to-Build-a-Career-in-AI.pdf'}, excluded_embed_metadata_keys=['window', 'original_text'], excluded_llm_metadata_keys=['window', 'original_text'], relationships={<NodeRelationship.SOURCE: '1'>: RelatedNodeInfo(node_id='4ad8f968-d27a-4280-b60f-9a1699a1f59c', node_type=<ObjectType.DOCUMENT: '4'>, metadata={'page_label': '9', 'file_name': 'eBook-How-to-Build-a-Career-in-AI.pdf'}, hash='a3599e490d833dcd081f9a3bc1d62686677b612b5b33ccc53ada0f19515e781f'), <NodeRelationship.PREVIOUS: '2'>: RelatedNodeInfo(node_id='39a001ff-4cff-482f-b302-081221204aac', node_type=<ObjectType.TEXT: '1'>, metadata={'window': 'PAGE 9In the previous chapter, I introduced three key steps for building a career in AI: learning \\nfoundational technical skills, working on projects, and finding a job, all of which is supported \\nby being part of a community.  In this chapter, I’d like to dive more deeply into the first step: \\nlearning foundational skills.\\n More research papers have been published on AI than anyone can read in a lifetime. ', 'original_text': 'PAGE 9In the previous chapter, I introduced three key steps for building a career in AI: learning \\nfoundational technical skills, working on projects, and finding a job, all of which is supported \\nby being part of a community. ', 'page_label': '9', 'file_name': 'eBook-How-to-Build-a-Career-in-AI.pdf'}, hash='ce70fe1b086c49b36c4b21b62d4083cc5dce11e26cc13793d5b470d35fc67538'), <NodeRelationship.NEXT: '3'>: RelatedNodeInfo(node_id='904b000d-f499-4e20-a40b-cfd1f96bc619', node_type=<ObjectType.TEXT: '1'>, metadata={'window': 'PAGE 9In the previous chapter, I introduced three key steps for building a career in AI: learning \\nfoundational technical skills, working on projects, and finding a job, all of which is supported \\nby being part of a community.  In this chapter, I’d like to dive more deeply into the first step: \\nlearning foundational skills.\\n More research papers have been published on AI than anyone can read in a lifetime.  So, when \\nlearning, it’s critical to prioritize topic selection.  I believe the most important topics for a technical \\ncareer in machine learning are:\\nFoundational machine learning skills: For example, it’s important to understand models such \\nas linear regression, logistic regression, neural networks, decision trees, clustering, and anomaly \\ndetection. ', 'original_text': 'More research papers have been published on AI than anyone can read in a lifetime. '}, hash='3716fa0676b4aaba8f3ae2da559edd00f3389247e8f23c1f967f89a5e734d8c2')}, hash='63feb756074d5089840c3a459dde9a0d750321644ddc9c514add3f42d45778a5', text='PAGE 9In the previous chapter, I introduced three key steps for building a career in AI: learning \\nfoundational technical skills, working on projects, and finding a job, all of which is supported \\nby being part of a community.  In this chapter, I’d like to dive more deeply into the first step: \\nlearning foundational skills.\\n More research papers have been published on AI than anyone can read in a lifetime.  So, when \\nlearning, it’s critical to prioritize topic selection. ', start_char_idx=227, end_char_idx=325, text_template='{metadata_str}\\n\\n{content}', metadata_template='{key}: {value}', metadata_seperator='\\n'), score=0.6866775039509914)]"
      ]
     },
     "execution_count": 11,
     "metadata": {},
     "output_type": "execute_result"
    }
   ],
   "source": [
    "\n",
    "# source_nodes   returns a List  of *NodeWithScore* object  that\n",
    "# contain the most top_k chunks relevants to the query\n",
    "result.source_nodes\n",
    "\n",
    "# response.metadata  # also contains data relevant to the context used"
   ]
  },
  {
   "cell_type": "code",
   "execution_count": 12,
   "metadata": {},
   "outputs": [
    {
     "data": {
      "text/plain": [
       "{'query': 'how can I start learning on the AI way?',\n",
       " 'response': \"The best way to start learning on the AI way is to start small and succeed. Instead of trying to exercise for 30 minutes a day, aim for doing just one push-up. This approach may be helpful for those who want to spend more time studying. Even if you learn nothing in that 10 seconds, you're building the habit of studying daily. On some days, you may end up studying for an hour or longer. To maintain a steady pace of learning for years, cultivate the habit of learning a little bit every week. Learning technical skills for a promising AI career involves learning foundational technical skills, working on projects, and finding a job supported by being part of a community.\",\n",
       " 'documents': ['eBook-How-to-Build-a-Career-in-AI.pdf',\n",
       "  'eBook-How-to-Build-a-Career-in-AI.pdf',\n",
       "  'eBook-How-to-Build-a-Career-in-AI.pdf'],\n",
       " 'pages': ['11', '10', '9']}"
      ]
     },
     "execution_count": 12,
     "metadata": {},
     "output_type": "execute_result"
    }
   ],
   "source": [
    "out_dict = {\n",
    "    'query': question,\n",
    "    'response': result.response,\n",
    "    'documents': [node.metadata['file_name'] for node in result.source_nodes],\n",
    "    'pages': [node.metadata['page_label'] for node in result.source_nodes]\n",
    "\n",
    "}\n",
    "out_dict"
   ]
  },
  {
   "cell_type": "markdown",
   "metadata": {},
   "source": [
    "## View the resources used"
   ]
  },
  {
   "cell_type": "code",
   "execution_count": 1,
   "metadata": {},
   "outputs": [],
   "source": [
    "import psutil\n",
    "import GPUtil\n",
    "import time\n",
    "\n",
    "\n",
    "def performance_metrics(function):\n",
    "    def wrapper(*args, **kwargs):\n",
    "        gpus = GPUtil.getGPUs()\n",
    "        ram_info = psutil.virtual_memory()\n",
    "        init_ram = ram_info.available / (1024 ** 3)\n",
    "        init_gpu = gpus[0].memoryFree\n",
    "        start_time = time.time()\n",
    "\n",
    "        out = function(*args, **kwargs)\n",
    "\n",
    "        gpus = GPUtil.getGPUs()\n",
    "        ram_info = psutil.virtual_memory()\n",
    "        print(\n",
    "            f'Used RAM: {round(init_ram - ram_info.available / (1024 ** 3),3)} GB')\n",
    "        print(f'Used GPU: {round(init_gpu - gpus[0].memoryFree,3)} MB')\n",
    "        print(f'Consumed time {time.time() - start_time} seconds')\n",
    "\n",
    "        return out\n",
    "    return wrapper"
   ]
  },
  {
   "cell_type": "markdown",
   "metadata": {},
   "source": [
    "## Put all together"
   ]
  },
  {
   "cell_type": "code",
   "execution_count": 2,
   "metadata": {},
   "outputs": [],
   "source": [
    "import os\n",
    "# Hugging Face Tokenizers Warning: This warning is related to the parallelism feature in \n",
    "# Hugging Face’s tokenizers library. When a process that has already used parallelism\n",
    "# gets forked, it can lead to deadlocks, which is why parallelism is disabled.\n",
    "\n",
    "# Avoid using tokenizers before the fork if possible.\n",
    "os.environ[\"TOKENIZERS_PARALLELISM\"] = \"false\"\n"
   ]
  },
  {
   "cell_type": "code",
   "execution_count": 3,
   "metadata": {},
   "outputs": [],
   "source": [
    "from llama_index.indices.postprocessor import MetadataReplacementPostProcessor\n",
    "from llama_index import SimpleDirectoryReader\n",
    "from llama_index.node_parser import SentenceWindowNodeParser\n",
    "from llama_index.embeddings import resolve_embed_model\n",
    "from llama_index.llms import HuggingFaceLLM\n",
    "from llama_index.prompts import PromptTemplate\n",
    "from llama_index import VectorStoreIndex, StorageContext, ServiceContext\n",
    "from llama_index import load_index_from_storage\n",
    "\n",
    "\n",
    "@performance_metrics\n",
    "def build_index(files, embed_model='local:BAAI/bge-large-en-v1.5', model='TinyLlama/TinyLlama-1.1B-Chat-v1.0', persist_dir='LLM_TRAIN/sentence_index'):\n",
    "\n",
    "    documents = SimpleDirectoryReader(input_files=files).load_data()\n",
    "\n",
    "    node_parser = SentenceWindowNodeParser.from_defaults(\n",
    "        window_size=3,\n",
    "        window_metadata_key=\"window\",\n",
    "        include_prev_next_rel=True,\n",
    "        original_text_metadata_key=\"original_text\",\n",
    "    )\n",
    "    embed_model = resolve_embed_model(embed_model)\n",
    "    llm = HuggingFaceLLM(\n",
    "        model_name=model,\n",
    "        tokenizer_name=model,\n",
    "        query_wrapper_prompt=PromptTemplate(\n",
    "            \"<|system|>\\n</s>\\n<|user|>\\n{query_str}</s>\\n<|assistant|>\\n\"),\n",
    "        context_window=2048,  # 4096\n",
    "        max_new_tokens=256,  # 512\n",
    "        model_kwargs={'trust_remote_code': True},\n",
    "        generate_kwargs={\"temperature\": 0.7, \"do_sample\": True},\n",
    "        device_map=\"auto\",\n",
    "    )\n",
    "\n",
    "    sentence_context = ServiceContext.from_defaults(\n",
    "        llm=llm,\n",
    "        embed_model=embed_model,\n",
    "        node_parser=node_parser,\n",
    "    )\n",
    "\n",
    "    if not os.path.exists(persist_dir):\n",
    "        sentence_index = VectorStoreIndex.from_documents(\n",
    "            documents, service_context=sentence_context\n",
    "        )\n",
    "\n",
    "        sentence_index.storage_context.persist(persist_dir=persist_dir)\n",
    "\n",
    "    else:\n",
    "        # print('Loading index from disk')\n",
    "        sentence_index = load_index_from_storage(\n",
    "            StorageContext.from_defaults(persist_dir=persist_dir),\n",
    "            service_context=sentence_context)\n",
    "\n",
    "    return sentence_index\n",
    "\n",
    "\n",
    "@performance_metrics\n",
    "def query_index(index, question):\n",
    "\n",
    "    # This takes a value stored in the metadata and replaces a node text\n",
    "    postproc = MetadataReplacementPostProcessor(target_metadata_key=\"window\")\n",
    "\n",
    "    sentence_window_engine = index.as_query_engine(\n",
    "        similarity_top_k=3,  # fetch the most similarity\n",
    "        node_postprocessors=[postproc])\n",
    "\n",
    "    result = sentence_window_engine.query(question)\n",
    "    return {\n",
    "        'query': question,\n",
    "        'response': result.response,\n",
    "        'documents': [node.metadata['file_name'] for node in result.source_nodes],\n",
    "        'pages': [node.metadata['page_label'] for node in result.source_nodes]\n",
    "    }"
   ]
  },
  {
   "cell_type": "markdown",
   "metadata": {},
   "source": [
    "## MODEL: TinyLlama/TinyLlama-1.1B-Chat-v1.0"
   ]
  },
  {
   "cell_type": "code",
   "execution_count": 4,
   "metadata": {},
   "outputs": [
    {
     "name": "stdout",
     "output_type": "stream",
     "text": [
      "Used RAM: 2.276 GB\n",
      "Used GPU: 5623.0 MB\n",
      "Consumed time 7.663482666015625 seconds\n"
     ]
    }
   ],
   "source": [
    "sentence_index = build_index(\n",
    "    files=[\"LLM_TRAIN/eBook-How-to-Build-a-Career-in-AI.pdf\"],\n",
    "    embed_model=\"local:BAAI/bge-large-en-v1.5\",\n",
    "    model=\"TinyLlama/TinyLlama-1.1B-Chat-v1.0\",\n",
    "    persist_dir=\"LLM_TRAIN/sentence_index\",\n",
    ")"
   ]
  },
  {
   "cell_type": "code",
   "execution_count": 5,
   "metadata": {},
   "outputs": [
    {
     "name": "stdout",
     "output_type": "stream",
     "text": [
      "Used RAM: 0.047 GB\n",
      "Used GPU: 254.0 MB\n",
      "Consumed time 3.1760852336883545 seconds\n"
     ]
    },
    {
     "data": {
      "text/plain": [
       "{'query': 'What are the keys to building a career in AI?',\n",
       " 'response': 'The keys to building a career in AI are learning foundational technical skills, working on projects, and finding a job. These steps stack on top of each other and are part of a broader process of gaining experience, building a portfolio, and finding a job. Chapters with focused topics on learning foundational technical skills include learning about AI concepts and methodologies, building a portfolio, and creating impact. The key to building a career in AI is to focus on learning foundational skills, working on projects, and finding a job, all of which are supported by being part of a community.',\n",
       " 'documents': ['eBook-How-to-Build-a-Career-in-AI.pdf',\n",
       "  'eBook-How-to-Build-a-Career-in-AI.pdf',\n",
       "  'eBook-How-to-Build-a-Career-in-AI.pdf'],\n",
       " 'pages': ['9', '6', '35']}"
      ]
     },
     "execution_count": 5,
     "metadata": {},
     "output_type": "execute_result"
    }
   ],
   "source": [
    "dict_response = query_index(sentence_index,\n",
    "      \"What are the keys to building a career in AI?\")\n",
    "dict_response"
   ]
  }
 ],
 "metadata": {
  "kernelspec": {
   "display_name": "Python 3 (ipykernel)",
   "language": "python",
   "name": "python3"
  },
  "language_info": {
   "codemirror_mode": {
    "name": "ipython",
    "version": 3
   },
   "file_extension": ".py",
   "mimetype": "text/x-python",
   "name": "python",
   "nbconvert_exporter": "python",
   "pygments_lexer": "ipython3",
   "version": "3.9.7"
  }
 },
 "nbformat": 4,
 "nbformat_minor": 2
}
