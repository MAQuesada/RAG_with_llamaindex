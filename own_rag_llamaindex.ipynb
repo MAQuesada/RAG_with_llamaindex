{
 "cells": [
  {
   "cell_type": "markdown",
   "metadata": {},
   "source": [
    "## Load data"
   ]
  },
  {
   "cell_type": "code",
   "execution_count": 8,
   "metadata": {},
   "outputs": [
    {
     "data": {
      "text/plain": [
       "41"
      ]
     },
     "execution_count": 8,
     "metadata": {},
     "output_type": "execute_result"
    }
   ],
   "source": [
    "from llama_hub.file.pdf.base import PDFReader\n",
    "from llama_index import SimpleDirectoryReader\n",
    "\n",
    "\n",
    "documents = PDFReader().load_data(\n",
    "    file='LLM_TRAIN/eBook-How-to-Build-a-Career-in-AI.pdf')\n",
    "\n",
    "# alternative\n",
    "\n",
    "# documents = SimpleDirectoryReader(\n",
    "#     input_files=['LLM_TRAIN/eBook-How-to-Build-a-Career-in-AI.pdf']\n",
    "# ).load_data()\n",
    "\n",
    "\n",
    "len(documents)"
   ]
  },
  {
   "cell_type": "markdown",
   "metadata": {},
   "source": [
    "## Parse Documents into Nodes using SentenceWindowRetrieval"
   ]
  },
  {
   "cell_type": "code",
   "execution_count": 10,
   "metadata": {},
   "outputs": [],
   "source": [
    "from llama_index.node_parser import SentenceWindowNodeParser\n",
    "\n",
    "# create the sentence window node parser w/ default settings\n",
    "# we can use sentence_splitter args to say how splits text into sentences\n",
    "\n",
    "node_parser = SentenceWindowNodeParser.from_defaults(\n",
    "    window_size=3,\n",
    "    window_metadata_key=\"window\",\n",
    "    include_prev_next_rel=True,\n",
    "    original_text_metadata_key=\"original_text\",\n",
    ")"
   ]
  },
  {
   "cell_type": "markdown",
   "metadata": {},
   "source": [
    "## LLM and embeddings"
   ]
  },
  {
   "cell_type": "code",
   "execution_count": 9,
   "metadata": {},
   "outputs": [],
   "source": [
    "from llama_index.embeddings import resolve_embed_model\n",
    "#  BGE embedder from HuggingFace\n",
    "embed_model = resolve_embed_model(\"local:BAAI/bge-large-en-v1.5\") # \"local:BAAI/bge-small-en-v1.5\"\n",
    "\n",
    "from llama_index import set_global_tokenizer\n",
    "# tokenizer for huggingface\n",
    "from transformers import AutoTokenizer\n",
    "\n",
    "set_global_tokenizer(\n",
    "    AutoTokenizer.from_pretrained(\"TinyLlama/TinyLlama-1.1B-Chat-v1.0\").encode\n",
    ")"
   ]
  },
  {
   "cell_type": "code",
   "execution_count": 11,
   "metadata": {},
   "outputs": [],
   "source": [
    "from llama_index.llms import HuggingFaceLLM\n",
    "from llama_index.prompts import PromptTemplate\n",
    "\n",
    "\n",
    "llm = HuggingFaceLLM(\n",
    "     # model_name=\"Deci/DeciLM-6b-instruct\",\n",
    "    # tokenizer_name=\"Deci/DeciLM-6b-instruct\",\n",
    "\n",
    "    # model_name=\"WeOpenML/Alpaca-7B-v1\",  # alapca of stanford\n",
    "    # tokenizer_name=\"WeOpenML/Alpaca-7B-v1\",\n",
    "    \n",
    "    model_name=\"TinyLlama/TinyLlama-1.1B-Chat-v1.0\",\n",
    "    tokenizer_name=\"TinyLlama/TinyLlama-1.1B-Chat-v1.0\",\n",
    "    query_wrapper_prompt=PromptTemplate(\n",
    "        \"<|system|>\\n</s>\\n<|user|>\\n{query_str}</s>\\n<|assistant|>\\n\"),\n",
    "    # query_wrapper_prompt=PromptTemplate(template),\n",
    "    \n",
    "    context_window=2048, # 4096\n",
    "    max_new_tokens=256,  # 512\n",
    "    model_kwargs={'trust_remote_code': True},\n",
    "    generate_kwargs={\"temperature\": 0.7,\"do_sample\":True},\n",
    "    device_map=\"auto\",\n",
    ")"
   ]
  },
  {
   "cell_type": "code",
   "execution_count": 12,
   "metadata": {},
   "outputs": [],
   "source": [
    "from llama_index import ServiceContext\n",
    "\n",
    "# service context is a wrapper object that contains all the context needed for indexing\n",
    "sentence_context = ServiceContext.from_defaults(\n",
    "    llm=llm,\n",
    "    embed_model=embed_model,\n",
    "    node_parser=node_parser,\n",
    ")"
   ]
  },
  {
   "cell_type": "markdown",
   "metadata": {},
   "source": [
    "## Building the index"
   ]
  },
  {
   "cell_type": "code",
   "execution_count": 14,
   "metadata": {},
   "outputs": [],
   "source": [
    "from llama_index import VectorStoreIndex\n",
    "\n",
    "sentence_index = VectorStoreIndex.from_documents(\n",
    "    documents, service_context=sentence_context\n",
    ")\n",
    "# Save index to disk for later loading\n",
    "sentence_index.storage_context.persist(persist_dir=\"LLM_TRAIN/sentence_index\")\n"
   ]
  },
  {
   "cell_type": "markdown",
   "metadata": {},
   "source": [
    "### Building the postprocessor\n",
    "Optionality you can add a reranker"
   ]
  },
  {
   "cell_type": "code",
   "execution_count": 15,
   "metadata": {},
   "outputs": [],
   "source": [
    "from llama_index.indices.postprocessor import MetadataReplacementPostProcessor\n",
    "\n",
    "# This takes a value stored in the metadata and replaces a node text\n",
    "postproc = MetadataReplacementPostProcessor(\n",
    "    target_metadata_key=\"window\")"
   ]
  },
  {
   "cell_type": "markdown",
   "metadata": {},
   "source": [
    "## Query the index"
   ]
  },
  {
   "cell_type": "code",
   "execution_count": 16,
   "metadata": {},
   "outputs": [],
   "source": [
    "sentence_window_engine = sentence_index.as_query_engine(\n",
    "    similarity_top_k=6,  # fetch the six most similarity\n",
    "    node_postprocessors=[postproc])"
   ]
  },
  {
   "cell_type": "code",
   "execution_count": 20,
   "metadata": {},
   "outputs": [
    {
     "name": "stdout",
     "output_type": "stream",
     "text": [
      "The following are the keys to building a career in AI:\n",
      "\n",
      "1. Learning foundational technical skills: Learning fundamental technical skills such as programming, data analysis, and machine learning is crucial for building a successful career in AI. These skills can be acquired through courses, web resources, and industry blogs.\n",
      "\n",
      "2. Work on projects: Work on projects that require AI to solve real-world problems. This will help you gain practical experience and build a portfolio that can be used to showcase your skills.\n",
      "\n",
      "3. Find a job: Finding a job in AI is challenging, but it is possible through networking, interviewing, and job boards. Make sure to research the company and the role you are applying for to ensure that the job description and requirements align with your skills and experience.\n",
      "\n",
      "4. Build a career: Build a career in AI by continuing to learn and work on meaningful projects. This can help you gain more technical skills and advance your career in AI.\n",
      "\n",
      "5. Tackle complex projects: While building a career in AI requires working on complex projects, it is important to focus on learning foundational skills to build a strong foundation. Additionally, working on\n"
     ]
    }
   ],
   "source": [
    "print(sentence_window_engine.query( \"What are the keys to building a career in AI?\"))"
   ]
  },
  {
   "cell_type": "code",
   "execution_count": 25,
   "metadata": {},
   "outputs": [
    {
     "name": "stdout",
     "output_type": "stream",
     "text": [
      "To start learning on the AI way, here are some tips:\n",
      "\n",
      "1. Start small and succeed: Instead of trying to achieve a large goal right away, start with a push-up exercise or a small task. This approach can help build a habit gradually and help you succeed more quickly.\n",
      "\n",
      "2. Try small projects: Instead of tackling a large project right away, try working on smaller projects that require less experience or effort. This can help you build a foundation of technical skills, which can be applied to larger projects later.\n",
      "\n",
      "3. Learn from others: Join a community of individuals working in AI, attend conferences or online meetups, and learn from their experiences and insights. This can help you stay up-to-date with the latest technologies and trends in the field.\n",
      "\n",
      "4. Focus on foundational skills: Learning technical skills such as programming, data analysis, and machine learning is a critical step in building a career in AI. However, it's critical to prioritize topic selection for your AI coursework.\n",
      "\n",
      "5. Set realistic expectations: AI projects can be highly iterative and require ongoing iteration. Be sure to set realistic expect\n"
     ]
    }
   ],
   "source": [
    "print(sentence_window_engine.query( 'how can I start learning on the AI way?'))\n"
   ]
  }
 ],
 "metadata": {
  "kernelspec": {
   "display_name": "Python 3 (ipykernel)",
   "language": "python",
   "name": "python3"
  },
  "language_info": {
   "codemirror_mode": {
    "name": "ipython",
    "version": 3
   },
   "file_extension": ".py",
   "mimetype": "text/x-python",
   "name": "python",
   "nbconvert_exporter": "python",
   "pygments_lexer": "ipython3",
   "version": "3.9.7"
  }
 },
 "nbformat": 4,
 "nbformat_minor": 2
}
